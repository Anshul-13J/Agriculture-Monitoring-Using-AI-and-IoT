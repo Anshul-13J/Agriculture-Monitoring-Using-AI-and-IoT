{
 "cells": [
  {
   "cell_type": "markdown",
   "metadata": {},
   "source": [
    "Importing essential libraries and modules"
   ]
  },
  {
   "cell_type": "code",
   "execution_count": 2,
   "metadata": {
    "scrolled": true
   },
   "outputs": [
    {
     "ename": "ModuleNotFoundError",
     "evalue": "No module named 'utils'",
     "output_type": "error",
     "traceback": [
      "\u001b[1;31m---------------------------------------------------------------------------\u001b[0m",
      "\u001b[1;31mModuleNotFoundError\u001b[0m                       Traceback (most recent call last)",
      "\u001b[1;32m<ipython-input-2-d4a277687b49>\u001b[0m in \u001b[0;36m<module>\u001b[1;34m\u001b[0m\n\u001b[0;32m      2\u001b[0m \u001b[1;32mimport\u001b[0m \u001b[0mnumpy\u001b[0m \u001b[1;32mas\u001b[0m \u001b[0mnp\u001b[0m\u001b[1;33m\u001b[0m\u001b[1;33m\u001b[0m\u001b[0m\n\u001b[0;32m      3\u001b[0m \u001b[1;32mimport\u001b[0m \u001b[0mpandas\u001b[0m \u001b[1;32mas\u001b[0m \u001b[0mpd\u001b[0m\u001b[1;33m\u001b[0m\u001b[1;33m\u001b[0m\u001b[0m\n\u001b[1;32m----> 4\u001b[1;33m \u001b[1;32mfrom\u001b[0m \u001b[0mutils\u001b[0m\u001b[1;33m.\u001b[0m\u001b[0mdisease\u001b[0m \u001b[1;32mimport\u001b[0m \u001b[0mdisease_dic\u001b[0m\u001b[1;33m\u001b[0m\u001b[1;33m\u001b[0m\u001b[0m\n\u001b[0m\u001b[0;32m      5\u001b[0m \u001b[1;32mfrom\u001b[0m \u001b[0mutils\u001b[0m\u001b[1;33m.\u001b[0m\u001b[0mfertilizer\u001b[0m \u001b[1;32mimport\u001b[0m \u001b[0mfertilizer_dic\u001b[0m\u001b[1;33m\u001b[0m\u001b[1;33m\u001b[0m\u001b[0m\n\u001b[0;32m      6\u001b[0m \u001b[1;32mimport\u001b[0m \u001b[0mrequests\u001b[0m\u001b[1;33m\u001b[0m\u001b[1;33m\u001b[0m\u001b[0m\n",
      "\u001b[1;31mModuleNotFoundError\u001b[0m: No module named 'utils'"
     ]
    }
   ],
   "source": [
    "from flask import Flask, render_template, request, Markup\n",
    "import numpy as np\n",
    "import pandas as pd\n",
    "from utils.disease import disease_dic\n",
    "from utils.fertilizer import fertilizer_dic\n",
    "import requests\n",
    "import config\n",
    "import pickle\n",
    "import io\n",
    "import torch\n",
    "from torchvision import transforms\n",
    "from PIL import Image\n",
    "from utils.model import ResNet9\n",
    "# =============================================================================================="
   ]
  },
  {
   "cell_type": "markdown",
   "metadata": {},
   "source": [
    "-------------------------LOADING THE TRAINED MODELS -----------------------------------------------"
   ]
  },
  {
   "cell_type": "markdown",
   "metadata": {},
   "source": [
    "Loading plant disease classification model"
   ]
  },
  {
   "cell_type": "code",
   "execution_count": 2,
   "metadata": {},
   "outputs": [],
   "source": [
    "disease_classes = ['Apple___Apple_scab',\n",
    "                   'Apple___Black_rot',\n",
    "                   'Apple___Cedar_apple_rust',\n",
    "                   'Apple___healthy',\n",
    "                   'Blueberry___healthy',\n",
    "                   'Cherry_(including_sour)___Powdery_mildew',\n",
    "                   'Cherry_(including_sour)___healthy',\n",
    "                   'Corn_(maize)___Cercospora_leaf_spot Gray_leaf_spot',\n",
    "                   'Corn_(maize)___Common_rust_',\n",
    "                   'Corn_(maize)___Northern_Leaf_Blight',\n",
    "                   'Corn_(maize)___healthy',\n",
    "                   'Grape___Black_rot',\n",
    "                   'Grape___Esca_(Black_Measles)',\n",
    "                   'Grape___Leaf_blight_(Isariopsis_Leaf_Spot)',\n",
    "                   'Grape___healthy',\n",
    "                   'Orange___Haunglongbing_(Citrus_greening)',\n",
    "                   'Peach___Bacterial_spot',\n",
    "                   'Peach___healthy',\n",
    "                   'Pepper,_bell___Bacterial_spot',\n",
    "                   'Pepper,_bell___healthy',\n",
    "                   'Potato___Early_blight',\n",
    "                   'Potato___Late_blight',\n",
    "                   'Potato___healthy',\n",
    "                   'Raspberry___healthy',\n",
    "                   'Soybean___healthy',\n",
    "                   'Squash___Powdery_mildew',\n",
    "                   'Strawberry___Leaf_scorch',\n",
    "                   'Strawberry___healthy',\n",
    "                   'Tomato___Bacterial_spot',\n",
    "                   'Tomato___Early_blight',\n",
    "                   'Tomato___Late_blight',\n",
    "                   'Tomato___Leaf_Mold',\n",
    "                   'Tomato___Septoria_leaf_spot',\n",
    "                   'Tomato___Spider_mites Two-spotted_spider_mite',\n",
    "                   'Tomato___Target_Spot',\n",
    "                   'Tomato___Tomato_Yellow_Leaf_Curl_Virus',\n",
    "                   'Tomato___Tomato_mosaic_virus',\n",
    "                   'Tomato___healthy']"
   ]
  },
  {
   "cell_type": "code",
   "execution_count": 3,
   "metadata": {
    "scrolled": false
   },
   "outputs": [
    {
     "data": {
      "text/plain": [
       "ResNet9(\n",
       "  (conv1): Sequential(\n",
       "    (0): Conv2d(3, 64, kernel_size=(3, 3), stride=(1, 1), padding=(1, 1))\n",
       "    (1): BatchNorm2d(64, eps=1e-05, momentum=0.1, affine=True, track_running_stats=True)\n",
       "    (2): ReLU(inplace=True)\n",
       "  )\n",
       "  (conv2): Sequential(\n",
       "    (0): Conv2d(64, 128, kernel_size=(3, 3), stride=(1, 1), padding=(1, 1))\n",
       "    (1): BatchNorm2d(128, eps=1e-05, momentum=0.1, affine=True, track_running_stats=True)\n",
       "    (2): ReLU(inplace=True)\n",
       "    (3): MaxPool2d(kernel_size=4, stride=4, padding=0, dilation=1, ceil_mode=False)\n",
       "  )\n",
       "  (res1): Sequential(\n",
       "    (0): Sequential(\n",
       "      (0): Conv2d(128, 128, kernel_size=(3, 3), stride=(1, 1), padding=(1, 1))\n",
       "      (1): BatchNorm2d(128, eps=1e-05, momentum=0.1, affine=True, track_running_stats=True)\n",
       "      (2): ReLU(inplace=True)\n",
       "    )\n",
       "    (1): Sequential(\n",
       "      (0): Conv2d(128, 128, kernel_size=(3, 3), stride=(1, 1), padding=(1, 1))\n",
       "      (1): BatchNorm2d(128, eps=1e-05, momentum=0.1, affine=True, track_running_stats=True)\n",
       "      (2): ReLU(inplace=True)\n",
       "    )\n",
       "  )\n",
       "  (conv3): Sequential(\n",
       "    (0): Conv2d(128, 256, kernel_size=(3, 3), stride=(1, 1), padding=(1, 1))\n",
       "    (1): BatchNorm2d(256, eps=1e-05, momentum=0.1, affine=True, track_running_stats=True)\n",
       "    (2): ReLU(inplace=True)\n",
       "    (3): MaxPool2d(kernel_size=4, stride=4, padding=0, dilation=1, ceil_mode=False)\n",
       "  )\n",
       "  (conv4): Sequential(\n",
       "    (0): Conv2d(256, 512, kernel_size=(3, 3), stride=(1, 1), padding=(1, 1))\n",
       "    (1): BatchNorm2d(512, eps=1e-05, momentum=0.1, affine=True, track_running_stats=True)\n",
       "    (2): ReLU(inplace=True)\n",
       "    (3): MaxPool2d(kernel_size=4, stride=4, padding=0, dilation=1, ceil_mode=False)\n",
       "  )\n",
       "  (res2): Sequential(\n",
       "    (0): Sequential(\n",
       "      (0): Conv2d(512, 512, kernel_size=(3, 3), stride=(1, 1), padding=(1, 1))\n",
       "      (1): BatchNorm2d(512, eps=1e-05, momentum=0.1, affine=True, track_running_stats=True)\n",
       "      (2): ReLU(inplace=True)\n",
       "    )\n",
       "    (1): Sequential(\n",
       "      (0): Conv2d(512, 512, kernel_size=(3, 3), stride=(1, 1), padding=(1, 1))\n",
       "      (1): BatchNorm2d(512, eps=1e-05, momentum=0.1, affine=True, track_running_stats=True)\n",
       "      (2): ReLU(inplace=True)\n",
       "    )\n",
       "  )\n",
       "  (classifier): Sequential(\n",
       "    (0): MaxPool2d(kernel_size=4, stride=4, padding=0, dilation=1, ceil_mode=False)\n",
       "    (1): Flatten(start_dim=1, end_dim=-1)\n",
       "    (2): Linear(in_features=512, out_features=38, bias=True)\n",
       "  )\n",
       ")"
      ]
     },
     "execution_count": 3,
     "metadata": {},
     "output_type": "execute_result"
    }
   ],
   "source": [
    "disease_model_path = 'models/plant_disease_model.pth'\n",
    "disease_model = ResNet9(3, len(disease_classes))\n",
    "disease_model.load_state_dict(torch.load(\n",
    "    disease_model_path, map_location=torch.device('cpu')))\n",
    "disease_model.eval()"
   ]
  },
  {
   "cell_type": "markdown",
   "metadata": {},
   "source": [
    "Loading crop recommendation model"
   ]
  },
  {
   "cell_type": "code",
   "execution_count": 4,
   "metadata": {
    "scrolled": true
   },
   "outputs": [
    {
     "name": "stderr",
     "output_type": "stream",
     "text": [
      "C:\\ProgramData\\Anaconda3\\lib\\site-packages\\sklearn\\base.py:329: UserWarning: Trying to unpickle estimator DecisionTreeClassifier from version 0.23.2 when using version 1.0.2. This might lead to breaking code or invalid results. Use at your own risk. For more info please refer to:\n",
      "https://scikit-learn.org/stable/modules/model_persistence.html#security-maintainability-limitations\n",
      "  warnings.warn(\n",
      "C:\\ProgramData\\Anaconda3\\lib\\site-packages\\sklearn\\base.py:329: UserWarning: Trying to unpickle estimator RandomForestClassifier from version 0.23.2 when using version 1.0.2. This might lead to breaking code or invalid results. Use at your own risk. For more info please refer to:\n",
      "https://scikit-learn.org/stable/modules/model_persistence.html#security-maintainability-limitations\n",
      "  warnings.warn(\n"
     ]
    }
   ],
   "source": [
    "crop_recommendation_model_path = 'models/RandomForest.pkl'\n",
    "crop_recommendation_model = pickle.load(\n",
    "    open(crop_recommendation_model_path, 'rb'))"
   ]
  },
  {
   "cell_type": "markdown",
   "metadata": {},
   "source": [
    "========================================================================================="
   ]
  },
  {
   "cell_type": "markdown",
   "metadata": {},
   "source": [
    "Custom functions for calculations"
   ]
  },
  {
   "cell_type": "code",
   "execution_count": 5,
   "metadata": {},
   "outputs": [],
   "source": [
    "def weather_fetch(city_name):\n",
    "    \"\"\"\n",
    "    Fetch and returns the temperature and humidity of a city\n",
    "    :params: city_name\n",
    "    :return: temperature, humidity\n",
    "    \"\"\"\n",
    "    api_key = config.weather_api_key\n",
    "    base_url = \"http://api.openweathermap.org/data/2.5/weather?\"\n",
    "    complete_url = base_url + \"appid=\" + api_key + \"&q=\" + city_name\n",
    "    response = requests.get(complete_url)\n",
    "    x = response.json()\n",
    "    if x[\"cod\"] != \"404\":\n",
    "        y = x[\"main\"]\n",
    "        temperature = round((y[\"temp\"] - 273.15), 2)\n",
    "        humidity = y[\"humidity\"]\n",
    "        return temperature, humidity\n",
    "    else:\n",
    "        return None"
   ]
  },
  {
   "cell_type": "code",
   "execution_count": 6,
   "metadata": {},
   "outputs": [],
   "source": [
    "def predict_image(img, model=disease_model):\n",
    "    \"\"\"\n",
    "    Transforms image to tensor and predicts disease label\n",
    "    :params: image\n",
    "    :return: prediction (string)\n",
    "    \"\"\"\n",
    "    transform = transforms.Compose([\n",
    "        transforms.Resize(256),\n",
    "        transforms.ToTensor(),\n",
    "    ])\n",
    "    image = Image.open(io.BytesIO(img))\n",
    "    img_t = transform(image)\n",
    "    img_u = torch.unsqueeze(img_t, 0)\n",
    "\n",
    "    # Get predictions from model\n",
    "    yb = model(img_u)\n",
    "    # Pick index with highest probability\n",
    "    _, preds = torch.max(yb, dim=1)\n",
    "    prediction = disease_classes[preds[0].item()]\n",
    "    # Retrieve the class label\n",
    "    return prediction"
   ]
  },
  {
   "cell_type": "markdown",
   "metadata": {},
   "source": [
    "===============================================================================================<br>\n",
    "------------------------------------ FLASK APP -------------------------------------------------"
   ]
  },
  {
   "cell_type": "code",
   "execution_count": 7,
   "metadata": {},
   "outputs": [],
   "source": [
    "app = Flask(__name__)"
   ]
  },
  {
   "cell_type": "markdown",
   "metadata": {},
   "source": [
    "render home page"
   ]
  },
  {
   "cell_type": "code",
   "execution_count": 8,
   "metadata": {},
   "outputs": [],
   "source": [
    "@ app.route('/')\n",
    "def home():\n",
    "    title = 'AgroCare - Home'\n",
    "    return render_template('index.html', title=title)"
   ]
  },
  {
   "cell_type": "markdown",
   "metadata": {},
   "source": [
    "render crop recommendation form page"
   ]
  },
  {
   "cell_type": "code",
   "execution_count": 9,
   "metadata": {},
   "outputs": [],
   "source": [
    "@ app.route('/crop-recommend')\n",
    "def crop_recommend():\n",
    "    title = 'AgroCare - Crop Recommendation'\n",
    "    return render_template('crop.html', title=title)"
   ]
  },
  {
   "cell_type": "markdown",
   "metadata": {},
   "source": [
    "render fertilizer recommendation form page"
   ]
  },
  {
   "cell_type": "code",
   "execution_count": 10,
   "metadata": {},
   "outputs": [],
   "source": [
    "@ app.route('/fertilizer')\n",
    "def fertilizer_recommendation():\n",
    "    title = 'AgroCare - Fertilizer Suggestion'\n",
    "    return render_template('fertilizer.html', title=title)"
   ]
  },
  {
   "cell_type": "markdown",
   "metadata": {},
   "source": [
    "render disease prediction input page"
   ]
  },
  {
   "cell_type": "markdown",
   "metadata": {},
   "source": [
    "==============================================================================================="
   ]
  },
  {
   "cell_type": "markdown",
   "metadata": {},
   "source": [
    "RENDER PREDICTION PAGES"
   ]
  },
  {
   "cell_type": "markdown",
   "metadata": {},
   "source": [
    "render crop recommendation result page"
   ]
  },
  {
   "cell_type": "code",
   "execution_count": 11,
   "metadata": {},
   "outputs": [],
   "source": [
    "@ app.route('/crop-predict', methods=['POST'])\n",
    "def crop_prediction():\n",
    "    title = 'AgroCare - Crop Recommendation'\n",
    "    if request.method == 'POST':\n",
    "        N = int(request.form['nitrogen'])\n",
    "        P = int(request.form['phosphorous'])\n",
    "        K = int(request.form['pottasium'])\n",
    "        ph = float(request.form['ph'])\n",
    "        rainfall = float(request.form['rainfall'])\n",
    "\n",
    "        # state = request.form.get(\"stt\")\n",
    "        city = request.form.get(\"city\")\n",
    "        if weather_fetch(city) != None:\n",
    "            temperature, humidity = weather_fetch(city)\n",
    "            data = np.array([[N, P, K, temperature, humidity, ph, rainfall]])\n",
    "            my_prediction = crop_recommendation_model.predict(data)\n",
    "            final_prediction = my_prediction[0]\n",
    "            return render_template('crop-result.html', prediction=final_prediction, title=title)\n",
    "        else:\n",
    "            return render_template('try_again.html', title=title)"
   ]
  },
  {
   "cell_type": "markdown",
   "metadata": {},
   "source": [
    "render fertilizer recommendation result page"
   ]
  },
  {
   "cell_type": "code",
   "execution_count": 12,
   "metadata": {},
   "outputs": [],
   "source": [
    "@ app.route('/fertilizer-predict', methods=['POST'])\n",
    "def fert_recommend():\n",
    "    title = 'AgroCare - Fertilizer Suggestion'\n",
    "    crop_name = str(request.form['cropname'])\n",
    "    N = int(request.form['nitrogen'])\n",
    "    P = int(request.form['phosphorous'])\n",
    "    K = int(request.form['pottasium'])\n",
    "    # ph = float(request.form['ph'])\n",
    "    df = pd.read_csv('Data/fertilizer.csv')\n",
    "    nr = df[df['Crop'] == crop_name]['N'].iloc[0]\n",
    "    pr = df[df['Crop'] == crop_name]['P'].iloc[0]\n",
    "    kr = df[df['Crop'] == crop_name]['K'].iloc[0]\n",
    "    n = nr - N\n",
    "    p = pr - P\n",
    "    k = kr - K\n",
    "    temp = {abs(n): \"N\", abs(p): \"P\", abs(k): \"K\"}\n",
    "    max_value = temp[max(temp.keys())]\n",
    "    if max_value == \"N\":\n",
    "        if n < 0:\n",
    "            key = 'NHigh'\n",
    "        else:\n",
    "            key = \"Nlow\"\n",
    "    elif max_value == \"P\":\n",
    "        if p < 0:\n",
    "            key = 'PHigh'\n",
    "        else:\n",
    "            key = \"Plow\"\n",
    "    else:\n",
    "        if k < 0:\n",
    "            key = 'KHigh'\n",
    "        else:\n",
    "            key = \"Klow\"\n",
    "    response = Markup(str(fertilizer_dic[key]))\n",
    "    return render_template('fertilizer-result.html', recommendation=response, title=title)"
   ]
  },
  {
   "cell_type": "markdown",
   "metadata": {},
   "source": [
    "render disease prediction result page"
   ]
  },
  {
   "cell_type": "code",
   "execution_count": 13,
   "metadata": {},
   "outputs": [],
   "source": [
    "@app.route('/disease-predict', methods=['GET', 'POST'])\n",
    "def disease_prediction():\n",
    "    title = 'AgroCare - Agriculture Care'\n",
    "    if request.method == 'POST':\n",
    "        if 'file' not in request.files:\n",
    "            return redirect(request.url)\n",
    "        file = request.files.get('file')\n",
    "        if not file:\n",
    "            return render_template('disease.html', title=title)\n",
    "        try:\n",
    "            img = file.read()\n",
    "            prediction = predict_image(img)\n",
    "            prediction = Markup(str(disease_dic[prediction]))\n",
    "            return render_template('disease-result.html', prediction=prediction, title=title)\n",
    "        except:\n",
    "            pass\n",
    "    return render_template('disease.html', title=title)"
   ]
  },
  {
   "cell_type": "markdown",
   "metadata": {},
   "source": [
    "==============================================================================================="
   ]
  },
  {
   "cell_type": "code",
   "execution_count": null,
   "metadata": {
    "scrolled": true
   },
   "outputs": [
    {
     "name": "stdout",
     "output_type": "stream",
     "text": [
      " * Serving Flask app \"__main__\" (lazy loading)\n",
      " * Environment: production\n",
      "\u001b[31m   WARNING: This is a development server. Do not use it in a production deployment.\u001b[0m\n",
      "\u001b[2m   Use a production WSGI server instead.\u001b[0m\n",
      " * Debug mode: off\n"
     ]
    },
    {
     "name": "stderr",
     "output_type": "stream",
     "text": [
      " * Running on http://127.0.0.1:5000/ (Press CTRL+C to quit)\n",
      "127.0.0.1 - - [25/Jun/2022 12:25:05] \"GET / HTTP/1.1\" 200 -\n",
      "127.0.0.1 - - [25/Jun/2022 12:25:23] \"GET /crop-recommend HTTP/1.1\" 200 -\n",
      "127.0.0.1 - - [25/Jun/2022 12:25:40] \"GET /fertilizer HTTP/1.1\" 200 -\n",
      "127.0.0.1 - - [25/Jun/2022 12:25:44] \"GET /crop-recommend HTTP/1.1\" 200 -\n",
      "127.0.0.1 - - [25/Jun/2022 12:26:03] \"GET /fertilizer HTTP/1.1\" 200 -\n",
      "127.0.0.1 - - [25/Jun/2022 12:26:05] \"GET /disease-predict HTTP/1.1\" 200 -\n",
      "127.0.0.1 - - [25/Jun/2022 12:26:20] \"GET /disease-predict HTTP/1.1\" 200 -\n",
      "127.0.0.1 - - [25/Jun/2022 12:27:19] \"GET /fertilizer HTTP/1.1\" 200 -\n",
      "127.0.0.1 - - [25/Jun/2022 12:27:21] \"GET /crop-recommend HTTP/1.1\" 200 -\n",
      "127.0.0.1 - - [25/Jun/2022 12:27:21] \"GET / HTTP/1.1\" 200 -\n"
     ]
    }
   ],
   "source": [
    "if __name__ == '__main__':\n",
    "    app.run(debug=False)"
   ]
  },
  {
   "cell_type": "code",
   "execution_count": null,
   "metadata": {},
   "outputs": [],
   "source": []
  }
 ],
 "metadata": {
  "kernelspec": {
   "display_name": "Python 3",
   "language": "python",
   "name": "python3"
  }
 },
 "nbformat": 4,
 "nbformat_minor": 2
}
